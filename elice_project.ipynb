{
 "cells": [
  {
   "cell_type": "code",
   "execution_count": 1,
   "metadata": {},
   "outputs": [],
   "source": [
    "import os, time\n",
    "from elice_solver import Solver\n",
    "from data_loader import get_loader\n",
    "from torch.backends import cudnn"
   ]
  },
  {
   "cell_type": "code",
   "execution_count": 4,
   "metadata": {},
   "outputs": [
    {
     "name": "stdout",
     "output_type": "stream",
     "text": [
      "{'sample_dir': 'stargan/samples', 'lr_update_step': 1000, 'c2_dim': 8, 'd_lr': 0.0001, 'c_dim': 5, 'model_save_step': 10000, 'num_workers': 1, 'd_conv_dim': 64, 'attr_path': 'data/list_attr_celeba3.txt', 'selected_attrs': ['Black_Hair', 'Blond_Hair', 'Brown_Hair', 'Male', 'Young'], 'g_lr': 0.0001, 'g_repeat_num': 6, 'celeba_crop_size': 178, 'beta2': 0.999, 'lambda_rec': 10, 'sample_step': 1000, 'resume_iters': None, 'num_iters': 200000, 'g_conv_dim': 64, 'result_dir': 'stargan_celeba_256/test2/results', 'log_dir': 'stargan/logs', 'num_iters_decay': 100000, 'log_step': 10, 'celeba_image_dir': 'stargan_celeba_256/test2', 'model_save_dir': 'stargan_celeba_256/models', 'lambda_cls': 1, 'batch_size': 16, 'lambda_gp': 10, 'image_size': 256, 'n_critic': 5, 'mode': 'test', 'dataset': 'CelebA', 'd_repeat_num': 6, 'test_iters': 200000, 'beta1': 0.5}\n"
     ]
    }
   ],
   "source": [
    "args = dict()\n",
    "args['c_dim'] = 5\n",
    "args['c2_dim'] = 8\n",
    "args['celeba_crop_size'] = 178\n",
    "args['image_size'] = 256\n",
    "args['g_conv_dim'] = 64\n",
    "args['d_conv_dim'] = 64\n",
    "args['g_repeat_num'] = 6\n",
    "args['d_repeat_num'] = 6\n",
    "args['lambda_cls'] = 1\n",
    "args['lambda_rec'] = 10\n",
    "args['lambda_gp'] = 10\n",
    "# Training configuration.\n",
    "args['dataset'] = 'CelebA'\n",
    "args['batch_size'] = 16\n",
    "args['num_iters'] = 200000\n",
    "args['num_iters_decay'] = 100000\n",
    "args['g_lr'] = 0.0001\n",
    "args['d_lr'] = 0.0001\n",
    "args['n_critic'] = 5\n",
    "args['beta1']=0.5\n",
    "args['beta2']=0.999\n",
    "args['resume_iters']=None\n",
    "args['selected_attrs']=['Black_Hair', 'Blond_Hair', 'Brown_Hair', 'Male', 'Young']\n",
    "# Test configuration.\n",
    "args['test_iters'] = 200000\n",
    "\n",
    "#Miscellaneous\n",
    "args['num_workers'] = 1\n",
    "args['mode'] = 'test'\n",
    "#Directories\n",
    "args['celeba_image_dir'] = 'stargan_celeba_256/test2'\n",
    "args['attr_path'] = 'data/list_attr_celeba3.txt'\n",
    "args['log_dir'] = 'stargan/logs'\n",
    "args['model_save_dir'] = 'stargan_celeba_256/models'\n",
    "args['sample_dir'] = 'stargan/samples'\n",
    "args['result_dir'] = 'stargan_celeba_256/test2/results'\n",
    "# Step size.\n",
    "args['log_step'] = 10\n",
    "args['sample_step'] = 1000\n",
    "args['model_save_step'] = 10000\n",
    "args['lr_update_step'] = 1000\n",
    "config = args\n",
    "print(config)"
   ]
  },
  {
   "cell_type": "code",
   "execution_count": 5,
   "metadata": {},
   "outputs": [
    {
     "name": "stdout",
     "output_type": "stream",
     "text": [
      "Finished preprocessing the CelebA dataset...\n"
     ]
    }
   ],
   "source": [
    "celeba_loader = get_loader(config['celeba_image_dir'], config['attr_path'], config['selected_attrs'],\n",
    "                           config['celeba_crop_size'], config['image_size'], config['batch_size'],\n",
    "                           'CelebA', config['mode'], config['num_workers'])"
   ]
  },
  {
   "cell_type": "code",
   "execution_count": 6,
   "metadata": {},
   "outputs": [
    {
     "name": "stdout",
     "output_type": "stream",
     "text": [
      "Loading the trained models from step 200000...\n",
      "i : 0 attr_name: Black_Hair\n",
      "i : 1 attr_name: Blond_Hair\n",
      "i : 2 attr_name: Brown_Hair\n",
      "i : 3 attr_name: Male\n",
      "i : 4 attr_name: Young\n",
      "hair_color_indices:  [0, 1, 2]\n",
      "Saved real and fake images into stargan_celeba_256/test2/results/1-1-images-black.jpg...\n",
      "Saved real and fake images into stargan_celeba_256/test2/results/1-2-images-black.jpg...\n",
      "Saved real and fake images into stargan_celeba_256/test2/results/1-3-images-black.jpg...\n",
      "Saved real and fake images into stargan_celeba_256/test2/results/1-4-images-black.jpg...\n",
      "Saved real and fake images into stargan_celeba_256/test2/results/1-5-images-black.jpg...\n",
      "Saved real and fake images into stargan_celeba_256/test2/results/1-6-images-black.jpg...\n",
      "Saved real and fake images into stargan_celeba_256/test2/results/1-7-images-black.jpg...\n",
      "Saved real and fake images into stargan_celeba_256/test2/results/1-8-images-black.jpg...\n",
      "Saved real and fake images into stargan_celeba_256/test2/results/1-9-images-black.jpg...\n",
      "Saved real and fake images into stargan_celeba_256/test2/results/1-10-images-black.jpg...\n",
      "Saved real and fake images into stargan_celeba_256/test2/results/1-11-images-black.jpg...\n",
      "Saved real and fake images into stargan_celeba_256/test2/results/1-12-images-black.jpg...\n",
      "Saved real and fake images into stargan_celeba_256/test2/results/1-13-images-black.jpg...\n",
      "Saved real and fake images into stargan_celeba_256/test2/results/1-14-images-black.jpg...\n",
      "Saved real and fake images into stargan_celeba_256/test2/results/1-15-images-black.jpg...\n",
      "Saved real and fake images into stargan_celeba_256/test2/results/1-16-images-black.jpg...\n",
      "Saved real and fake images into stargan_celeba_256/test2/results/2-1-images-blond.jpg...\n",
      "Saved real and fake images into stargan_celeba_256/test2/results/2-2-images-blond.jpg...\n",
      "Saved real and fake images into stargan_celeba_256/test2/results/2-3-images-blond.jpg...\n",
      "Saved real and fake images into stargan_celeba_256/test2/results/2-4-images-blond.jpg...\n",
      "Saved real and fake images into stargan_celeba_256/test2/results/2-5-images-blond.jpg...\n",
      "Saved real and fake images into stargan_celeba_256/test2/results/2-6-images-blond.jpg...\n",
      "Saved real and fake images into stargan_celeba_256/test2/results/2-7-images-blond.jpg...\n",
      "Saved real and fake images into stargan_celeba_256/test2/results/2-8-images-blond.jpg...\n",
      "Saved real and fake images into stargan_celeba_256/test2/results/2-9-images-blond.jpg...\n",
      "Saved real and fake images into stargan_celeba_256/test2/results/2-10-images-blond.jpg...\n",
      "Saved real and fake images into stargan_celeba_256/test2/results/2-11-images-blond.jpg...\n",
      "Saved real and fake images into stargan_celeba_256/test2/results/2-12-images-blond.jpg...\n",
      "Saved real and fake images into stargan_celeba_256/test2/results/2-13-images-blond.jpg...\n",
      "Saved real and fake images into stargan_celeba_256/test2/results/2-14-images-blond.jpg...\n",
      "Saved real and fake images into stargan_celeba_256/test2/results/2-15-images-blond.jpg...\n",
      "Saved real and fake images into stargan_celeba_256/test2/results/2-16-images-blond.jpg...\n",
      "Saved real and fake images into stargan_celeba_256/test2/results/3-1-images-brown.jpg...\n",
      "Saved real and fake images into stargan_celeba_256/test2/results/3-2-images-brown.jpg...\n",
      "Saved real and fake images into stargan_celeba_256/test2/results/3-3-images-brown.jpg...\n",
      "Saved real and fake images into stargan_celeba_256/test2/results/3-4-images-brown.jpg...\n",
      "Saved real and fake images into stargan_celeba_256/test2/results/3-5-images-brown.jpg...\n",
      "Saved real and fake images into stargan_celeba_256/test2/results/3-6-images-brown.jpg...\n",
      "Saved real and fake images into stargan_celeba_256/test2/results/3-7-images-brown.jpg...\n",
      "Saved real and fake images into stargan_celeba_256/test2/results/3-8-images-brown.jpg...\n",
      "Saved real and fake images into stargan_celeba_256/test2/results/3-9-images-brown.jpg...\n",
      "Saved real and fake images into stargan_celeba_256/test2/results/3-10-images-brown.jpg...\n",
      "Saved real and fake images into stargan_celeba_256/test2/results/3-11-images-brown.jpg...\n",
      "Saved real and fake images into stargan_celeba_256/test2/results/3-12-images-brown.jpg...\n",
      "Saved real and fake images into stargan_celeba_256/test2/results/3-13-images-brown.jpg...\n",
      "Saved real and fake images into stargan_celeba_256/test2/results/3-14-images-brown.jpg...\n",
      "Saved real and fake images into stargan_celeba_256/test2/results/3-15-images-brown.jpg...\n",
      "Saved real and fake images into stargan_celeba_256/test2/results/3-16-images-brown.jpg...\n",
      "Saved real and fake images into stargan_celeba_256/test2/results/4-1-images-gender.jpg...\n",
      "Saved real and fake images into stargan_celeba_256/test2/results/4-2-images-gender.jpg...\n",
      "Saved real and fake images into stargan_celeba_256/test2/results/4-3-images-gender.jpg...\n",
      "Saved real and fake images into stargan_celeba_256/test2/results/4-4-images-gender.jpg...\n",
      "Saved real and fake images into stargan_celeba_256/test2/results/4-5-images-gender.jpg...\n",
      "Saved real and fake images into stargan_celeba_256/test2/results/4-6-images-gender.jpg...\n",
      "Saved real and fake images into stargan_celeba_256/test2/results/4-7-images-gender.jpg...\n",
      "Saved real and fake images into stargan_celeba_256/test2/results/4-8-images-gender.jpg...\n",
      "Saved real and fake images into stargan_celeba_256/test2/results/4-9-images-gender.jpg...\n",
      "Saved real and fake images into stargan_celeba_256/test2/results/4-10-images-gender.jpg...\n",
      "Saved real and fake images into stargan_celeba_256/test2/results/4-11-images-gender.jpg...\n",
      "Saved real and fake images into stargan_celeba_256/test2/results/4-12-images-gender.jpg...\n",
      "Saved real and fake images into stargan_celeba_256/test2/results/4-13-images-gender.jpg...\n",
      "Saved real and fake images into stargan_celeba_256/test2/results/4-14-images-gender.jpg...\n",
      "Saved real and fake images into stargan_celeba_256/test2/results/4-15-images-gender.jpg...\n",
      "Saved real and fake images into stargan_celeba_256/test2/results/4-16-images-gender.jpg...\n",
      "Saved real and fake images into stargan_celeba_256/test2/results/5-1-images-age.jpg...\n",
      "Saved real and fake images into stargan_celeba_256/test2/results/5-2-images-age.jpg...\n",
      "Saved real and fake images into stargan_celeba_256/test2/results/5-3-images-age.jpg...\n",
      "Saved real and fake images into stargan_celeba_256/test2/results/5-4-images-age.jpg...\n",
      "Saved real and fake images into stargan_celeba_256/test2/results/5-5-images-age.jpg...\n",
      "Saved real and fake images into stargan_celeba_256/test2/results/5-6-images-age.jpg...\n",
      "Saved real and fake images into stargan_celeba_256/test2/results/5-7-images-age.jpg...\n",
      "Saved real and fake images into stargan_celeba_256/test2/results/5-8-images-age.jpg...\n",
      "Saved real and fake images into stargan_celeba_256/test2/results/5-9-images-age.jpg...\n",
      "Saved real and fake images into stargan_celeba_256/test2/results/5-10-images-age.jpg...\n",
      "Saved real and fake images into stargan_celeba_256/test2/results/5-11-images-age.jpg...\n",
      "Saved real and fake images into stargan_celeba_256/test2/results/5-12-images-age.jpg...\n",
      "Saved real and fake images into stargan_celeba_256/test2/results/5-13-images-age.jpg...\n",
      "Saved real and fake images into stargan_celeba_256/test2/results/5-14-images-age.jpg...\n",
      "Saved real and fake images into stargan_celeba_256/test2/results/5-15-images-age.jpg...\n",
      "Saved real and fake images into stargan_celeba_256/test2/results/5-16-images-age.jpg...\n",
      "i : 0 attr_name: Black_Hair\n",
      "i : 1 attr_name: Blond_Hair\n",
      "i : 2 attr_name: Brown_Hair\n",
      "i : 3 attr_name: Male\n",
      "i : 4 attr_name: Young\n",
      "hair_color_indices:  [0, 1, 2]\n",
      "Saved real and fake images into stargan_celeba_256/test2/results/1-1-images-black.jpg...\n",
      "Saved real and fake images into stargan_celeba_256/test2/results/1-2-images-black.jpg...\n",
      "Saved real and fake images into stargan_celeba_256/test2/results/2-1-images-blond.jpg...\n",
      "Saved real and fake images into stargan_celeba_256/test2/results/2-2-images-blond.jpg...\n",
      "Saved real and fake images into stargan_celeba_256/test2/results/3-1-images-brown.jpg...\n",
      "Saved real and fake images into stargan_celeba_256/test2/results/3-2-images-brown.jpg...\n",
      "Saved real and fake images into stargan_celeba_256/test2/results/4-1-images-gender.jpg...\n",
      "Saved real and fake images into stargan_celeba_256/test2/results/4-2-images-gender.jpg...\n"
     ]
    },
    {
     "name": "stdout",
     "output_type": "stream",
     "text": [
      "Saved real and fake images into stargan_celeba_256/test2/results/5-1-images-age.jpg...\n",
      "Saved real and fake images into stargan_celeba_256/test2/results/5-2-images-age.jpg...\n",
      "13.36998963356018\n"
     ]
    }
   ],
   "source": [
    "start = time.time()\n",
    "solver = Solver(celeba_loader, config)\n",
    "solver.test()\n",
    "end = time.time()\n",
    "print(end - start)"
   ]
  }
 ],
 "metadata": {
  "kernelspec": {
   "display_name": "elice_project",
   "language": "python",
   "name": "tensorflow"
  },
  "language_info": {
   "codemirror_mode": {
    "name": "ipython",
    "version": 3
   },
   "file_extension": ".py",
   "mimetype": "text/x-python",
   "name": "python",
   "nbconvert_exporter": "python",
   "pygments_lexer": "ipython3",
   "version": "3.5.2"
  }
 },
 "nbformat": 4,
 "nbformat_minor": 2
}
